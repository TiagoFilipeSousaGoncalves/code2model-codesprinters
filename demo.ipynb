{
 "cells": [
  {
   "cell_type": "code",
   "execution_count": 1,
   "metadata": {
    "tags": []
   },
   "outputs": [],
   "source": [
    "import pandas as pd\n",
    "\n",
    "df = pd.read_csv('manual_code.csv', encoding='utf-8', sep=';')"
   ]
  },
  {
   "cell_type": "code",
   "execution_count": 16,
   "metadata": {},
   "outputs": [
    {
     "data": {
      "text/html": [
       "<div>\n",
       "<style scoped>\n",
       "    .dataframe tbody tr th:only-of-type {\n",
       "        vertical-align: middle;\n",
       "    }\n",
       "\n",
       "    .dataframe tbody tr th {\n",
       "        vertical-align: top;\n",
       "    }\n",
       "\n",
       "    .dataframe thead th {\n",
       "        text-align: right;\n",
       "    }\n",
       "</style>\n",
       "<table border=\"1\" class=\"dataframe\">\n",
       "  <thead>\n",
       "    <tr style=\"text-align: right;\">\n",
       "      <th></th>\n",
       "      <th>codmanua</th>\n",
       "      <th>platafor</th>\n",
       "      <th>tipo</th>\n",
       "      <th>modulo</th>\n",
       "      <th>parametr</th>\n",
       "      <th>corpo</th>\n",
       "    </tr>\n",
       "  </thead>\n",
       "  <tbody>\n",
       "    <tr>\n",
       "      <th>0</th>\n",
       "      <td>6675DFA7-A091-4C5E-8630-000023A4AE48</td>\n",
       "      <td>WIN</td>\n",
       "      <td>SQLFUNC</td>\n",
       "      <td>SIM</td>\n",
       "      <td>Extenso_sd</td>\n",
       "      <td>CREATE procedure dbo.Extenso_sd (@valor float,...</td>\n",
       "    </tr>\n",
       "    <tr>\n",
       "      <th>1</th>\n",
       "      <td>260DC5CE-F4A4-4BB8-A8D3-0001841FBDEB</td>\n",
       "      <td>CS</td>\n",
       "      <td>GWACTIVDEL</td>\n",
       "      <td>SIM</td>\n",
       "      <td>WORKF</td>\n",
       "      <td>return new GlobalFunctions(user, user.CurrentM...</td>\n",
       "    </tr>\n",
       "    <tr>\n",
       "      <th>2</th>\n",
       "      <td>CCE22EAE-F71D-4418-9722-00028C679034</td>\n",
       "      <td>WIN</td>\n",
       "      <td>ONCANCL</td>\n",
       "      <td>GFP</td>\n",
       "      <td>RECEIFAC</td>\n",
       "      <td>\\r\\n\\t\\t//Só para mensagens de erro, nao bloqu...</td>\n",
       "    </tr>\n",
       "  </tbody>\n",
       "</table>\n",
       "</div>"
      ],
      "text/plain": [
       "                               codmanua platafor        tipo modulo  \\\n",
       "0  6675DFA7-A091-4C5E-8630-000023A4AE48      WIN     SQLFUNC    SIM   \n",
       "1  260DC5CE-F4A4-4BB8-A8D3-0001841FBDEB       CS  GWACTIVDEL    SIM   \n",
       "2  CCE22EAE-F71D-4418-9722-00028C679034      WIN     ONCANCL    GFP   \n",
       "\n",
       "     parametr                                              corpo  \n",
       "0  Extenso_sd  CREATE procedure dbo.Extenso_sd (@valor float,...  \n",
       "1       WORKF  return new GlobalFunctions(user, user.CurrentM...  \n",
       "2    RECEIFAC  \\r\\n\\t\\t//Só para mensagens de erro, nao bloqu...  "
      ]
     },
     "execution_count": 16,
     "metadata": {},
     "output_type": "execute_result"
    }
   ],
   "source": [
    "df.head(3)"
   ]
  },
  {
   "cell_type": "code",
   "execution_count": 17,
   "metadata": {},
   "outputs": [],
   "source": [
    "subset = df[(df.platafor == 'WIN') & (df.tipo == 'SQLFUNC')]"
   ]
  },
  {
   "cell_type": "code",
   "execution_count": 27,
   "metadata": {},
   "outputs": [],
   "source": [
    "df = df[df['platafor'].notnull()]"
   ]
  },
  {
   "cell_type": "code",
   "execution_count": 28,
   "metadata": {},
   "outputs": [
    {
     "name": "stderr",
     "output_type": "stream",
     "text": [
      "C:\\Users\\paulo\\anaconda3\\lib\\site-packages\\xgboost\\sklearn.py:888: UserWarning: The use of label encoder in XGBClassifier is deprecated and will be removed in a future release. To remove this warning, do the following: 1) Pass option use_label_encoder=False when constructing XGBClassifier object; and 2) Encode your labels (y) as integers starting with 0, i.e. 0, 1, 2, ..., [num_class - 1].\n",
      "  warnings.warn(label_encoder_deprecation_msg, UserWarning)\n"
     ]
    },
    {
     "name": "stdout",
     "output_type": "stream",
     "text": [
      "[22:03:52] WARNING: C:/Users/Administrator/workspace/xgboost-win64_release_1.3.0/src/learner.cc:1061: Starting in XGBoost 1.3.0, the default evaluation metric used with the objective 'multi:softprob' was changed from 'merror' to 'mlogloss'. Explicitly set eval_metric if you'd like to restore the old behavior.\n"
     ]
    },
    {
     "data": {
      "text/plain": [
       "Pipeline(steps=[('countvectorizer', CountVectorizer()),\n",
       "                ('xgbclassifier',\n",
       "                 XGBClassifier(base_score=0.5, booster='gbtree',\n",
       "                               colsample_bylevel=1, colsample_bynode=1,\n",
       "                               colsample_bytree=1, gamma=0, gpu_id=-1,\n",
       "                               importance_type='gain',\n",
       "                               interaction_constraints='',\n",
       "                               learning_rate=0.300000012, max_delta_step=0,\n",
       "                               max_depth=6, min_child_weight=1, missing=nan,\n",
       "                               monotone_constraints='()', n_estimators=100,\n",
       "                               n_jobs=8, num_parallel_tree=1,\n",
       "                               objective='multi:softprob', random_state=0,\n",
       "                               reg_alpha=0, reg_lambda=1, scale_pos_weight=None,\n",
       "                               subsample=1, tree_method='exact',\n",
       "                               validate_parameters=1, verbosity=None))])"
      ]
     },
     "execution_count": 28,
     "metadata": {},
     "output_type": "execute_result"
    }
   ],
   "source": [
    "from sklearn.pipeline import make_pipeline\n",
    "from xgboost import XGBClassifier\n",
    "from sklearn.feature_extraction.text import CountVectorizer\n",
    "\n",
    "vectorizer = CountVectorizer()\n",
    "\n",
    "pipe = make_pipeline(\n",
    "    CountVectorizer(),\n",
    "    XGBClassifier()\n",
    ")\n",
    "\n",
    "pipe.fit(df['corpo'].fillna(''), df['platafor'])"
   ]
  },
  {
   "cell_type": "code",
   "execution_count": 29,
   "metadata": {},
   "outputs": [
    {
     "data": {
      "text/plain": [
       "array(['WIN', 'CS', 'WIN', 'CS', 'MVC'], dtype=object)"
      ]
     },
     "execution_count": 29,
     "metadata": {},
     "output_type": "execute_result"
    }
   ],
   "source": []
  },
  {
   "cell_type": "code",
   "execution_count": 12,
   "metadata": {},
   "outputs": [
    {
     "data": {
      "text/plain": [
       "MVC        22960\n",
       "WIN        19979\n",
       "CS          9854\n",
       "QWEB        2489\n",
       "WCF          470\n",
       "ADMCS        101\n",
       "WS            87\n",
       "VUE           15\n",
       "REP            6\n",
       "JS             5\n",
       "WEB            1\n",
       "JENKINS        1\n",
       "Name: platafor, dtype: int64"
      ]
     },
     "execution_count": 12,
     "metadata": {},
     "output_type": "execute_result"
    }
   ],
   "source": [
    "df.platafor.value_counts()"
   ]
  },
  {
   "cell_type": "code",
   "execution_count": 98,
   "metadata": {},
   "outputs": [],
   "source": [
    "from sklearn.metrics.pairwise import cosine_similarity\n",
    "from sklearn.feature_extraction.text import CountVectorizer\n",
    "\n",
    "vectorizer = CountVectorizer()\n",
    "X = vectorizer.fit_transform(subset['corpo'].values)\n",
    "arr = X.toarray()"
   ]
  },
  {
   "cell_type": "code",
   "execution_count": 128,
   "metadata": {},
   "outputs": [],
   "source": [
    "import seaborn as sns\n",
    "\n",
    "sims = cosine_similarity(arr)"
   ]
  },
  {
   "cell_type": "code",
   "execution_count": 106,
   "metadata": {},
   "outputs": [
    {
     "data": {
      "text/plain": [
       "0        CREATE procedure dbo.Extenso_sd (@valor float,...\n",
       "5        CREATE FUNCTION [dbo].[FUN_EXECPOSI_CABIM](@PI...\n",
       "33       CREATE FUNCTION [dbo].[getDadosEmissaoDecIRSBe...\n",
       "34       -- CRC_1 - O NIF ou o Código Fonte deve estar ...\n",
       "36       CREATE FUNCTION dbo.FUN_BACTIV_RESTITUIGR_MOVI...\n",
       "                               ...                        \n",
       "55913    CREATE PROCEDURE [dbo].[MAPA_BALANCETEANALITIC...\n",
       "55926    Create FUNCTION [dbo].[DataMaisRecente] (@dtsi...\n",
       "55929    --created by [JL] at [2015.01.19]\\r\\n--last up...\n",
       "55933    \\r\\nCREATE VIEW [dbo].[DEMRESULN_PREV_ANO]\\r\\n...\n",
       "55944    CREATE VIEW VIEW_PESP_RECEITA\\r\\nas\\r\\nselect\\...\n",
       "Name: corpo, Length: 3781, dtype: object"
      ]
     },
     "execution_count": 106,
     "metadata": {},
     "output_type": "execute_result"
    }
   ],
   "source": [
    "subset['corpo']"
   ]
  },
  {
   "cell_type": "code",
   "execution_count": 113,
   "metadata": {},
   "outputs": [
    {
     "data": {
      "text/plain": [
       "array([[0, 0, 0, ..., 0, 0, 0],\n",
       "       [0, 0, 0, ..., 0, 0, 0],\n",
       "       [0, 0, 0, ..., 0, 0, 0],\n",
       "       ...,\n",
       "       [0, 0, 0, ..., 0, 0, 0],\n",
       "       [0, 0, 0, ..., 0, 0, 0],\n",
       "       [0, 0, 0, ..., 0, 0, 0]], dtype=int64)"
      ]
     },
     "execution_count": 113,
     "metadata": {},
     "output_type": "execute_result"
    }
   ],
   "source": [
    "arr"
   ]
  },
  {
   "cell_type": "code",
   "execution_count": 130,
   "metadata": {},
   "outputs": [],
   "source": [
    "for i in range(sims.shape[0]):\n",
    "    for j in range(sims.shape[1]):\n",
    "        if i == j:\n",
    "            sims[i][j] = 0"
   ]
  },
  {
   "cell_type": "code",
   "execution_count": 153,
   "metadata": {},
   "outputs": [],
   "source": [
    "import numpy as np\n",
    "\n",
    "max_similarity = np.argmax(sims, axis=1)"
   ]
  },
  {
   "cell_type": "code",
   "execution_count": 167,
   "metadata": {},
   "outputs": [],
   "source": [
    "similarity_values = sims[np.arange(len(sims)), max_similarity]"
   ]
  },
  {
   "cell_type": "code",
   "execution_count": 168,
   "metadata": {},
   "outputs": [
    {
     "data": {
      "text/plain": [
       "array([0.91643277, 0.97526535, 1.        , ..., 0.98863065, 0.99969918,\n",
       "       0.82584298])"
      ]
     },
     "execution_count": 168,
     "metadata": {},
     "output_type": "execute_result"
    }
   ],
   "source": [
    "similarity_values"
   ]
  },
  {
   "cell_type": "code",
   "execution_count": 169,
   "metadata": {
    "collapsed": true,
    "jupyter": {
     "outputs_hidden": true
    },
    "tags": []
   },
   "outputs": [
    {
     "name": "stderr",
     "output_type": "stream",
     "text": [
      "<ipython-input-169-10ababc3dd5b>:1: SettingWithCopyWarning: \n",
      "A value is trying to be set on a copy of a slice from a DataFrame.\n",
      "Try using .loc[row_indexer,col_indexer] = value instead\n",
      "\n",
      "See the caveats in the documentation: https://pandas.pydata.org/pandas-docs/stable/user_guide/indexing.html#returning-a-view-versus-a-copy\n",
      "  subset['most_similar'] = subset.iloc[max_similarity]['corpo'].values\n",
      "<ipython-input-169-10ababc3dd5b>:2: SettingWithCopyWarning: \n",
      "A value is trying to be set on a copy of a slice from a DataFrame.\n",
      "Try using .loc[row_indexer,col_indexer] = value instead\n",
      "\n",
      "See the caveats in the documentation: https://pandas.pydata.org/pandas-docs/stable/user_guide/indexing.html#returning-a-view-versus-a-copy\n",
      "  subset['similarity_values'] = similarity_values\n",
      "<ipython-input-169-10ababc3dd5b>:3: SettingWithCopyWarning: \n",
      "A value is trying to be set on a copy of a slice from a DataFrame.\n",
      "Try using .loc[row_indexer,col_indexer] = value instead\n",
      "\n",
      "See the caveats in the documentation: https://pandas.pydata.org/pandas-docs/stable/user_guide/indexing.html#returning-a-view-versus-a-copy\n",
      "  subset['most_similar_idx'] = max_similarity\n"
     ]
    }
   ],
   "source": [
    "subset['most_similar'] = subset.iloc[max_similarity]['corpo'].values\n",
    "subset['similarity_values'] = similarity_values\n",
    "subset['most_similar_idx'] = max_similarity"
   ]
  },
  {
   "cell_type": "code",
   "execution_count": 178,
   "metadata": {},
   "outputs": [
    {
     "data": {
      "text/html": [
       "<div>\n",
       "<style scoped>\n",
       "    .dataframe tbody tr th:only-of-type {\n",
       "        vertical-align: middle;\n",
       "    }\n",
       "\n",
       "    .dataframe tbody tr th {\n",
       "        vertical-align: top;\n",
       "    }\n",
       "\n",
       "    .dataframe thead th {\n",
       "        text-align: right;\n",
       "    }\n",
       "</style>\n",
       "<table border=\"1\" class=\"dataframe\">\n",
       "  <thead>\n",
       "    <tr style=\"text-align: right;\">\n",
       "      <th></th>\n",
       "      <th>codmanua</th>\n",
       "      <th>platafor</th>\n",
       "      <th>tipo</th>\n",
       "      <th>modulo</th>\n",
       "      <th>parametr</th>\n",
       "      <th>corpo</th>\n",
       "      <th>most_similar</th>\n",
       "      <th>most_similar_idx</th>\n",
       "      <th>similarity_values</th>\n",
       "    </tr>\n",
       "  </thead>\n",
       "  <tbody>\n",
       "    <tr>\n",
       "      <th>0</th>\n",
       "      <td>6675DFA7-A091-4C5E-8630-000023A4AE48</td>\n",
       "      <td>WIN</td>\n",
       "      <td>SQLFUNC</td>\n",
       "      <td>SIM</td>\n",
       "      <td>Extenso_sd</td>\n",
       "      <td>CREATE procedure dbo.Extenso_sd (@valor float,...</td>\n",
       "      <td>CREATE FUNCTION Extenso (@valor MONEY, @type I...</td>\n",
       "      <td>2578</td>\n",
       "      <td>0.916433</td>\n",
       "    </tr>\n",
       "    <tr>\n",
       "      <th>5</th>\n",
       "      <td>878D03C6-DD3F-4D33-A2ED-00065995630B</td>\n",
       "      <td>WIN</td>\n",
       "      <td>SQLFUNC</td>\n",
       "      <td>GFP</td>\n",
       "      <td>FUN_EXECPOSI_CABIM</td>\n",
       "      <td>CREATE FUNCTION [dbo].[FUN_EXECPOSI_CABIM](@PI...</td>\n",
       "      <td>CREATE FUNCTION dbo.FUN_BDACTIV_CABIM(@PI_CLOA...</td>\n",
       "      <td>3739</td>\n",
       "      <td>0.975265</td>\n",
       "    </tr>\n",
       "    <tr>\n",
       "      <th>33</th>\n",
       "      <td>91D3F4C0-C1EE-4534-98FC-00242CE284AF</td>\n",
       "      <td>WIN</td>\n",
       "      <td>SQLFUNC</td>\n",
       "      <td>ACS</td>\n",
       "      <td>getDadosEmissaoDecIRSBeneficiario</td>\n",
       "      <td>CREATE FUNCTION [dbo].[getDadosEmissaoDecIRSBe...</td>\n",
       "      <td>CREATE FUNCTION [dbo].[getDadosEmissaoDecIRSBe...</td>\n",
       "      <td>1322</td>\n",
       "      <td>1.000000</td>\n",
       "    </tr>\n",
       "    <tr>\n",
       "      <th>34</th>\n",
       "      <td>19A62B7E-F011-49D4-A85F-00244EBDF1E0</td>\n",
       "      <td>WIN</td>\n",
       "      <td>SQLFUNC</td>\n",
       "      <td>BRR</td>\n",
       "      <td>CRC_1</td>\n",
       "      <td>-- CRC_1 - O NIF ou o Código Fonte deve estar ...</td>\n",
       "      <td>CREATE FUNCTION CRC_2(@CODGENER uniqueidentifi...</td>\n",
       "      <td>1639</td>\n",
       "      <td>0.809521</td>\n",
       "    </tr>\n",
       "    <tr>\n",
       "      <th>36</th>\n",
       "      <td>80EA66AD-1E45-4EFD-9FA5-002565C6D400</td>\n",
       "      <td>WIN</td>\n",
       "      <td>SQLFUNC</td>\n",
       "      <td>GFP</td>\n",
       "      <td>FUN_BACTIV_RESTITUIGR_MOVINTER</td>\n",
       "      <td>CREATE FUNCTION dbo.FUN_BACTIV_RESTITUIGR_MOVI...</td>\n",
       "      <td>CREATE FUNCTION [dbo].[FUN_BACTIV_RESTITUIGR_E...</td>\n",
       "      <td>3423</td>\n",
       "      <td>0.993248</td>\n",
       "    </tr>\n",
       "  </tbody>\n",
       "</table>\n",
       "</div>"
      ],
      "text/plain": [
       "                                codmanua platafor     tipo modulo  \\\n",
       "0   6675DFA7-A091-4C5E-8630-000023A4AE48      WIN  SQLFUNC    SIM   \n",
       "5   878D03C6-DD3F-4D33-A2ED-00065995630B      WIN  SQLFUNC    GFP   \n",
       "33  91D3F4C0-C1EE-4534-98FC-00242CE284AF      WIN  SQLFUNC    ACS   \n",
       "34  19A62B7E-F011-49D4-A85F-00244EBDF1E0      WIN  SQLFUNC    BRR   \n",
       "36  80EA66AD-1E45-4EFD-9FA5-002565C6D400      WIN  SQLFUNC    GFP   \n",
       "\n",
       "                             parametr  \\\n",
       "0                          Extenso_sd   \n",
       "5                  FUN_EXECPOSI_CABIM   \n",
       "33  getDadosEmissaoDecIRSBeneficiario   \n",
       "34                              CRC_1   \n",
       "36     FUN_BACTIV_RESTITUIGR_MOVINTER   \n",
       "\n",
       "                                                corpo  \\\n",
       "0   CREATE procedure dbo.Extenso_sd (@valor float,...   \n",
       "5   CREATE FUNCTION [dbo].[FUN_EXECPOSI_CABIM](@PI...   \n",
       "33  CREATE FUNCTION [dbo].[getDadosEmissaoDecIRSBe...   \n",
       "34  -- CRC_1 - O NIF ou o Código Fonte deve estar ...   \n",
       "36  CREATE FUNCTION dbo.FUN_BACTIV_RESTITUIGR_MOVI...   \n",
       "\n",
       "                                         most_similar  most_similar_idx  \\\n",
       "0   CREATE FUNCTION Extenso (@valor MONEY, @type I...              2578   \n",
       "5   CREATE FUNCTION dbo.FUN_BDACTIV_CABIM(@PI_CLOA...              3739   \n",
       "33  CREATE FUNCTION [dbo].[getDadosEmissaoDecIRSBe...              1322   \n",
       "34  CREATE FUNCTION CRC_2(@CODGENER uniqueidentifi...              1639   \n",
       "36  CREATE FUNCTION [dbo].[FUN_BACTIV_RESTITUIGR_E...              3423   \n",
       "\n",
       "    similarity_values  \n",
       "0            0.916433  \n",
       "5            0.975265  \n",
       "33           1.000000  \n",
       "34           0.809521  \n",
       "36           0.993248  "
      ]
     },
     "execution_count": 178,
     "metadata": {},
     "output_type": "execute_result"
    }
   ],
   "source": [
    "subset.head(5)"
   ]
  },
  {
   "cell_type": "code",
   "execution_count": 191,
   "metadata": {},
   "outputs": [],
   "source": [
    "subset.to_csv('resultados.csv')"
   ]
  },
  {
   "cell_type": "code",
   "execution_count": 190,
   "metadata": {},
   "outputs": [
    {
     "data": {
      "text/plain": [
       "codmanua                          EF10D187-FA69-4380-AA41-01A807BECF4D\n",
       "platafor                                                           WIN\n",
       "tipo                                                           SQLFUNC\n",
       "modulo                                                             GFP\n",
       "parametr                                           FUN_BDACTIV_DCONGEL\n",
       "corpo                CREATE FUNCTION dbo.FUN_BDACTIV_DCONGEL(@PI_CL...\n",
       "most_similar         CREATE FUNCTION dbo.FUN_BDACTIV_ANUL(@PI_CLOAC...\n",
       "most_similar_idx                                                   124\n",
       "similarity_values                                             0.988751\n",
       "Name: 369, dtype: object"
      ]
     },
     "execution_count": 190,
     "metadata": {},
     "output_type": "execute_result"
    }
   ],
   "source": [
    "subset.iloc[33]"
   ]
  },
  {
   "cell_type": "code",
   "execution_count": 189,
   "metadata": {
    "tags": []
   },
   "outputs": [
    {
     "name": "stdout",
     "output_type": "stream",
     "text": [
      "CREATE FUNCTION dbo.FUN_BDACTIV_DCONGEL(@PI_CLOAC VARCHAR(40), @PI_FFINA VARCHAR(40), @PI_TAFEC VARCHAR(10), @PI_DATA1 DATETIME)\n",
      "RETURNS FLOAT AS\n",
      "BEGIN\n",
      "\tRETURN\n",
      "\tCASE WHEN @PI_FFINA IS NULL\n",
      "\t\tTHEN\n",
      "\t\t\t--(SELECT ISNULL(SUM(dbo.GFPanuac.desconge),0)\n",
      "\t\t\t--FROM dbo.GFPanuac\n",
      "\t\t\t--WHERE\n",
      "\t\t\t\t--dbo.GFPanuac.codcloac=@PI_CLOAC\n",
      "\t\t\t\t--AND dbo.GFPanuac.data<=@PI_DATA1)\n",
      "\t\t\t0\n",
      "\t\tELSE\n",
      "\t\t\t(SELECT ISNULL(dbo.RoundQG(SUM(CASE WHEN dbo.GFPanuac.valor=0 THEN dbo.GFPlffin.percreal/100*dbo.GFPanuac.desconge ELSE dbo.GFPlffin.valor/dbo.GFPanuac.valor*dbo.GFPanuac.desconge END),2),0)\n",
      "\t\t\tFROM dbo.GFPlffin WITH (NOLOCK)\n",
      "\t\t\t\tINNER JOIN dbo.GFPanuac WITH (NOLOCK) ON dbo.GFPlffin.codanuac=dbo.GFPanuac.codanuac\n",
      "\t\t\tWHERE\n",
      "\t\t\t\tdbo.GFPanuac.codcloac=@PI_CLOAC\n",
      "\t\t\t\tAND dbo.GFPanuac.data<=@PI_DATA1\n",
      "\t\t\t\tAND dbo.GFPlffin.codffina=@PI_FFINA\n",
      "\t\t\t\tAND dbo.GFPlffin.tipoafec=@PI_TAFEC\n",
      "\t\t\t\tAND dbo.GFPlffin.zzstate = 0\n",
      "\t\t\t\tAND dbo.GFPanuac.zzstate = 0) END\n",
      "END\n"
     ]
    }
   ],
   "source": [
    "print(subset.iloc[33].corpo)"
   ]
  },
  {
   "cell_type": "code",
   "execution_count": 181,
   "metadata": {},
   "outputs": [
    {
     "name": "stdout",
     "output_type": "stream",
     "text": [
      "CREATE FUNCTION Extenso (@valor MONEY, @type INT, @singular VARCHAR(128), @plural VARCHAR(128), @singular_cent VARCHAR(128), @plural_cent VARCHAR(128))\n",
      "RETURNS VARCHAR(1000)\n",
      "AS\n",
      "BEGIN\n",
      "    DECLARE @v MONEY\n",
      "    DECLARE @aux VARCHAR(1000), @ext VARCHAR(1000)\n",
      "    DECLARE @b INT, @c INT, @m INT, @mi INT, @mm INT, @u INT\n",
      "    DECLARE @p VARCHAR(10), @s VARCHAR(10)\n",
      "    SET @aux = ''\n",
      "    SET @ext = ''\n",
      "    SET @p = ''\n",
      "    SET @s = ''\n",
      "    IF @valor < 0\n",
      "    BEGIN\n",
      "        SET @valor = -@valor\n",
      "        SET @ext = 'menos '\n",
      "    END\n",
      "    SET @v = FLOOR(@valor / 1000000000000.0)\n",
      "    SET @b = CAST(@v AS INT)\n",
      "    SET @valor = @valor - @v * 1000000000000\n",
      "    SET @v = FLOOR(@valor / 1000000000.0)\n",
      "    SET @mm = CAST(@v AS INT)\n",
      "    SET @valor = @valor - @v * 1000000000\n",
      "    SET @v = FLOOR(@valor / 1000000.0)\n",
      "    SET @mi = CAST(@v AS INT)\n",
      "    SET @valor = @valor - @v * 1000000\n",
      "    SET @v = FLOOR(@valor / 1000.0)\n",
      "    SET @m = CAST(@v AS INT)\n",
      "    SET @valor = @valor - @v * 1000\n",
      "    SET @v = FLOOR(@valor)\n",
      "    SET @u = CAST(@v AS INT)\n",
      "    SET @valor = @valor - @v\n",
      "    IF @type = 0\n",
      "    BEGIN\n",
      "        SET @c =CAST(FLOOR(@valor * 100) AS INT)\n",
      "        SET @p = @plural\n",
      "        SET @s = @singular\n",
      "    END\n",
      "    IF @type = 1\n",
      "    BEGIN\n",
      "        SET @c = CAST(FLOOR(@valor * 100) AS INT)\n",
      "        SET @p = 'escudos'\n",
      "        SET @s = 'escudo'\n",
      "    END\n",
      "    IF @type = 2\n",
      "    BEGIN\n",
      "        SET @c = CAST(FLOOR(@valor * 100) AS INT)\n",
      "        SET @p = 'euros'\n",
      "        SET @s = 'euro'\n",
      "        SET @singular_cent = 'cêntimo'\n",
      "        SET @plural_cent = 'cêntimos'\n",
      "    END\n",
      "    IF @b > 0\n",
      "    BEGIN\n",
      "        SET @aux = dbo.Write1000 (@aux, @b, 'bilião', 'biliões')\n",
      "        SET @ext = @ext + @aux\n",
      "        IF @mm | @mi | @m | @u = 0 AND @p <> '' SET @ext = @ext + ' de'\n",
      "    END\n",
      "    IF @mm > 0\n",
      "    BEGIN\n",
      "        IF @ext <> ''\n",
      "        BEGIN\n",
      "            IF @mi | @m | @u = 0 SET @ext = @ext + ' e '\n",
      "            ELSE SET @ext = @ext + ' '\n",
      "        END\n",
      "        IF @mm = 1 SET @ext = @ext + 'mil milhões'\n",
      "        ELSE SET @ext = @ext + dbo.Write1000 (@aux, @mm, '', 'mil milhões')\n",
      "        IF (@mi | @m | @u) = 0 AND @p <> '' SET @ext = @ext + ' de'\n",
      "    END\n",
      "    IF @mi > 0\n",
      "    BEGIN\n",
      "        IF @ext <> ''\n",
      "        BEGIN\n",
      "            IF @m | @u = 0 SET @ext = @ext + ' e '\n",
      "            ELSE SET @ext = @ext + ' '\n",
      "        END\n",
      "        SET @ext = @ext + dbo.Write1000 (@aux, @mi, 'milhão', 'milhões')\n",
      "        IF (@m | @u) = 0 AND @p <> '' SET @ext = @ext + ' de'\n",
      "    END\n",
      "    IF @m > 0\n",
      "    BEGIN\n",
      "        IF @ext <> ''\n",
      "        BEGIN\n",
      "            IF @u = 0 SET @ext = @ext + ' e '\n",
      "            ELSE SET @ext = @ext + ' '\n",
      "        END\n",
      "        IF @m = 1 SET @ext = @ext + 'mil'\n",
      "        ELSE SET @ext = @ext + dbo.Write1000 (@aux, @m, '', 'mil')\n",
      "    END\n",
      "    IF @u > 0\n",
      "    BEGIN\n",
      "        IF (@b | @mm | @mi | @m) > 0 SET @aux = dbo.Write1000 (@aux, @u, @p, @p)\n",
      "        ELSE SET @aux = dbo.Write1000 (@aux, @u, @s, @p)\n",
      "        IF @ext <> ''\n",
      "        BEGIN\n",
      "            IF @aux like '% e %' SET @ext = @ext + ' '\n",
      "            ELSE SET @ext = @ext + ' e '\n",
      "        END\n",
      "        SET @ext = @ext + @aux\n",
      "    END\n",
      "    ELSE\n",
      "    BEGIN\n",
      "        IF @ext = '' OR @ext is null SET @ext = 'zero'\n",
      "        SET @ext = @ext + ' ' + @p\n",
      "    END\n",
      "    IF @c > 0\n",
      "    BEGIN\n",
      "        SET @ext = @ext + ' e ' + dbo.Write1000 (@aux, @c, @singular_cent, @plural_cent)\n",
      "    END\n",
      "    RETURN @ext   \n",
      "END\n"
     ]
    }
   ],
   "source": [
    "print(subset.iloc[2578].corpo)"
   ]
  },
  {
   "cell_type": "code",
   "execution_count": null,
   "metadata": {},
   "outputs": [],
   "source": []
  },
  {
   "cell_type": "code",
   "execution_count": null,
   "metadata": {},
   "outputs": [],
   "source": []
  }
 ],
 "metadata": {
  "kernelspec": {
   "display_name": "Python 3",
   "language": "python",
   "name": "python3"
  },
  "language_info": {
   "codemirror_mode": {
    "name": "ipython",
    "version": 3
   },
   "file_extension": ".py",
   "mimetype": "text/x-python",
   "name": "python",
   "nbconvert_exporter": "python",
   "pygments_lexer": "ipython3",
   "version": "3.8.5"
  }
 },
 "nbformat": 4,
 "nbformat_minor": 4
}
